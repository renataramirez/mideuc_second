{
 "cells": [
  {
   "cell_type": "code",
   "execution_count": null,
   "id": "99fae74c",
   "metadata": {},
   "outputs": [],
   "source": [
    "kjbcjwbjhwbcj"
   ]
  }
 ],
 "metadata": {
  "language_info": {
   "name": "python"
  }
 },
 "nbformat": 4,
 "nbformat_minor": 5
}
